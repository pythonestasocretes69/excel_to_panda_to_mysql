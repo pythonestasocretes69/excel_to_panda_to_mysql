{
 "cells": [
  {
   "cell_type": "code",
   "execution_count": 1,
   "id": "cc121515",
   "metadata": {},
   "outputs": [],
   "source": [
    "import pandas as pd"
   ]
  },
  {
   "cell_type": "code",
   "execution_count": 20,
   "id": "b801b5a4",
   "metadata": {},
   "outputs": [],
   "source": [
    "df = pd.read_excel('stock_report.xlsx')"
   ]
  },
  {
   "cell_type": "code",
   "execution_count": 21,
   "id": "51bc8ded",
   "metadata": {},
   "outputs": [
    {
     "name": "stdout",
     "output_type": "stream",
     "text": [
      "['Date', 'Open', 'High', 'Low', 'Close']\n",
      "Enter the positon of the column to be taken as a primary key:0\n",
      "Date is the primary key\n"
     ]
    }
   ],
   "source": [
    "columns = list(df.columns)\n",
    "print(columns)\n",
    "position= int(input('Enter the positon of the column to be taken as a primary key:'))\n",
    "print(columns[position],'is the primary key')"
   ]
  },
  {
   "cell_type": "code",
   "execution_count": 22,
   "id": "087b1484",
   "metadata": {},
   "outputs": [
    {
     "data": {
      "text/plain": [
       "[pandas._libs.tslibs.timestamps.Timestamp,\n",
       " numpy.float64,\n",
       " numpy.float64,\n",
       " numpy.float64,\n",
       " numpy.float64]"
      ]
     },
     "execution_count": 22,
     "metadata": {},
     "output_type": "execute_result"
    }
   ],
   "source": [
    "column_types = []\n",
    "for i in columns:\n",
    "    object = (df.loc[0,i])\n",
    "    column_types+= [type(object)]\n",
    "column_types"
   ]
  },
  {
   "cell_type": "code",
   "execution_count": null,
   "id": "3aeaea40",
   "metadata": {},
   "outputs": [],
   "source": []
  }
 ],
 "metadata": {
  "kernelspec": {
   "display_name": "Python 3 (ipykernel)",
   "language": "python",
   "name": "python3"
  },
  "language_info": {
   "codemirror_mode": {
    "name": "ipython",
    "version": 3
   },
   "file_extension": ".py",
   "mimetype": "text/x-python",
   "name": "python",
   "nbconvert_exporter": "python",
   "pygments_lexer": "ipython3",
   "version": "3.10.5"
  }
 },
 "nbformat": 4,
 "nbformat_minor": 5
}
