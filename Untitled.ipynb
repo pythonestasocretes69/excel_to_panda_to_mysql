{
 "cells": [
  {
   "cell_type": "code",
   "execution_count": 1,
   "id": "cc121515",
   "metadata": {},
   "outputs": [],
   "source": [
    "import pandas as pd"
   ]
  },
  {
   "cell_type": "code",
   "execution_count": 2,
   "id": "b801b5a4",
   "metadata": {},
   "outputs": [],
   "source": [
    "df = pd.read_excel('stock_report.xlsx')"
   ]
  },
  {
   "cell_type": "code",
   "execution_count": 3,
   "id": "51bc8ded",
   "metadata": {},
   "outputs": [
    {
     "name": "stdout",
     "output_type": "stream",
     "text": [
      "['Date', 'Open', 'High', 'Low', 'Close']\n",
      "Enter the positon of the column to be taken as a primary key:0\n",
      "Date is the primary key\n"
     ]
    }
   ],
   "source": [
    "columns = list(df.columns)\n",
    "print(columns)\n",
    "position= int(input('Enter the positon of the column to be taken as a primary key:'))\n",
    "print(columns[position],'is the primary key')"
   ]
  },
  {
   "cell_type": "code",
   "execution_count": 51,
   "id": "aac8859a",
   "metadata": {},
   "outputs": [],
   "source": [
    "def refine(arg):\n",
    "    Mysql_types = ['datetime','float','intiger']\n",
    "    panda_types = ['time','float','int']\n",
    "    for i in range(3):\n",
    "        if str(panda_types[i] in str(arg)):\n",
    "            print(i,panda_types[i],arg,panda_types[i] in str(arg))\n",
    "            return (Mysql_types[i])\n",
    "                "
   ]
  },
  {
   "cell_type": "code",
   "execution_count": 52,
   "id": "087b1484",
   "metadata": {},
   "outputs": [
    {
     "name": "stdout",
     "output_type": "stream",
     "text": [
      "0 time [\"<class 'pandas._libs.tslibs.timestamps.Timestamp'>\"] True\n",
      "datetime\n",
      "0 time [\"<class 'numpy.float64'>\"] False\n",
      "datetime\n",
      "0 time [\"<class 'numpy.float64'>\"] False\n",
      "datetime\n",
      "0 time [\"<class 'numpy.float64'>\"] False\n",
      "datetime\n",
      "0 time [\"<class 'numpy.float64'>\"] False\n",
      "datetime\n"
     ]
    },
    {
     "data": {
      "text/plain": [
       "['datetime', 'datetime', 'datetime', 'datetime', 'datetime']"
      ]
     },
     "execution_count": 52,
     "metadata": {},
     "output_type": "execute_result"
    }
   ],
   "source": [
    "column_types = []\n",
    "for i in columns:\n",
    "    column = (df.loc[0,i])\n",
    "    panda_type = [str(type(column))]\n",
    "    mysql_type = refine(panda_type)\n",
    "    print(mysql_type)\n",
    "    column_types+= [mysql_type]\n",
    "column_types"
   ]
  },
  {
   "cell_type": "code",
   "execution_count": 13,
   "id": "3aeaea40",
   "metadata": {},
   "outputs": [
    {
     "data": {
      "text/plain": [
       "'2013-01-01 00:00:00'"
      ]
     },
     "execution_count": 13,
     "metadata": {},
     "output_type": "execute_result"
    }
   ],
   "source": [
    "str(df.iloc[0,0])"
   ]
  },
  {
   "cell_type": "code",
   "execution_count": 10,
   "id": "ff99e5ca",
   "metadata": {},
   "outputs": [
    {
     "name": "stdout",
     "output_type": "stream",
     "text": [
      "<class 'type'>\n",
      "<class 'type'>\n",
      "<class 'type'>\n",
      "<class 'type'>\n",
      "<class 'type'>\n"
     ]
    }
   ],
   "source": [
    "for i in column_types:\n",
    "    print(type(i))"
   ]
  },
  {
   "cell_type": "code",
   "execution_count": null,
   "id": "10d8cfa3",
   "metadata": {},
   "outputs": [],
   "source": []
  }
 ],
 "metadata": {
  "kernelspec": {
   "display_name": "Python 3 (ipykernel)",
   "language": "python",
   "name": "python3"
  },
  "language_info": {
   "codemirror_mode": {
    "name": "ipython",
    "version": 3
   },
   "file_extension": ".py",
   "mimetype": "text/x-python",
   "name": "python",
   "nbconvert_exporter": "python",
   "pygments_lexer": "ipython3",
   "version": "3.10.5"
  }
 },
 "nbformat": 4,
 "nbformat_minor": 5
}
